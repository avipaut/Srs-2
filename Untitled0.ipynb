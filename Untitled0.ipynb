{
  "nbformat": 4,
  "nbformat_minor": 0,
  "metadata": {
    "colab": {
      "provenance": [],
      "authorship_tag": "ABX9TyMvKBl0vKuV3in6YUra3vWz",
      "include_colab_link": true
    },
    "kernelspec": {
      "name": "python3",
      "display_name": "Python 3"
    },
    "language_info": {
      "name": "python"
    }
  },
  "cells": [
    {
      "cell_type": "markdown",
      "metadata": {
        "id": "view-in-github",
        "colab_type": "text"
      },
      "source": [
        "<a href=\"https://colab.research.google.com/github/avipaut/Srs-2/blob/1/Untitled0.ipynb\" target=\"_parent\"><img src=\"https://colab.research.google.com/assets/colab-badge.svg\" alt=\"Open In Colab\"/></a>"
      ]
    },
    {
      "cell_type": "markdown",
      "source": [
        "<h1>Лабораторная 6"
      ],
      "metadata": {
        "id": "8uZqrbWK3hoK"
      }
    },
    {
      "cell_type": "markdown",
      "source": [
        "<h3> Выполнил Молчанов Кирилл"
      ],
      "metadata": {
        "id": "Pa7xO_365wR6"
      }
    },
    {
      "cell_type": "markdown",
      "source": [
        "Шаг 1: Создание и иследование набора данных"
      ],
      "metadata": {
        "id": "z7s78esR6P16"
      }
    },
    {
      "cell_type": "code",
      "source": [
        "import pandas as pd\n",
        "import numpy as np\n",
        "import random\n",
        "\n",
        "# Создание набора данных\n",
        "data = {'salary': [random.randint(30000, 70000) for _ in range(1000)],\n",
        "        'city': [random.choice(['Bishkek', 'London', 'Moscow']) for _ in range(1000)],\n",
        "        'age': [random.randint(30, 65) for _ in range(1000)],\n",
        "        'vacation_prefer': [random.choice(['Shopping', 'Beach holiday']) for _ in range(1000)],\n",
        "        'transport_prefer': [random.choice(['auto', 'plane']) for _ in range(1000)],\n",
        "        'target': [random.choice(['London', 'Moscow']) for _ in range(1000)]}\n",
        "\n",
        "df = pd.DataFrame(data)\n",
        "\n",
        "# Преобразование категориальных данных в числовые с использованием pandas.get_dummies\n",
        "df = pd.get_dummies(df, columns=['city', 'vacation_prefer', 'transport_prefer'])\n",
        "\n",
        "# Разделение набора данных на обучающий и тестовый наборы\n",
        "from sklearn.model_selection import train_test_split\n",
        "\n",
        "X = df.drop('target', axis=1)\n",
        "y = df['target']\n",
        "\n",
        "X_train, X_test, y_train, y_test = train_test_split(X, y, test_size=0.2, random_state=42)"
      ],
      "metadata": {
        "id": "LDIRcWsb5CuU"
      },
      "execution_count": 51,
      "outputs": []
    },
    {
      "cell_type": "markdown",
      "source": [
        "Шаг 2: Выбор и иследование классификатора"
      ],
      "metadata": {
        "id": "UWKoWTFF4hM0"
      }
    },
    {
      "cell_type": "code",
      "source": [
        "from sklearn.ensemble import RandomForestClassifier\n",
        "from sklearn.metrics import accuracy_score\n",
        "\n",
        "# Выбор модели классификатора\n",
        "model = RandomForestClassifier()\n",
        "\n",
        "# Обучение модели\n",
        "model.fit(X_train, y_train)\n",
        "\n",
        "# Оценка модели\n",
        "y_pred = model.predict(X_test)\n",
        "accuracy = accuracy_score(y_test, y_pred)\n",
        "print(f\"Точность модели: {accuracy}\")"
      ],
      "metadata": {
        "colab": {
          "base_uri": "https://localhost:8080/"
        },
        "id": "-EfCbvtA5Kcx",
        "outputId": "df432664-9423-4aad-cff8-3bf9a6b9602d"
      },
      "execution_count": 52,
      "outputs": [
        {
          "output_type": "stream",
          "name": "stdout",
          "text": [
            "Точность модели: 0.5\n"
          ]
        }
      ]
    },
    {
      "cell_type": "markdown",
      "source": [
        "Шаг 3: Предсказание на случайных данных"
      ],
      "metadata": {
        "id": "ybDQAQrn6qH3"
      }
    },
    {
      "cell_type": "code",
      "source": [
        "# Генерация случайных данных для предсказания\n",
        "random_data = {'salary': [random.randint(30000, 70000)],\n",
        "               'city_Bishkek': [0], 'city_London': [0], 'city_Moscow': [0],\n",
        "               'age': [random.randint(30, 65)],\n",
        "               'vacation_prefer_Shopping': [0], 'vacation_prefer_Beach holiday': [0],\n",
        "               'transport_prefer_auto': [0], 'transport_prefer_plane': [0]}\n",
        "\n",
        "# Убедитесь, что порядок столбцов соответствует порядку во время обучения\n",
        "random_df = pd.DataFrame(random_data, columns=X.columns)\n",
        "\n",
        "# Предсказание\n",
        "prediction = model.predict(random_df)\n",
        "print(f\"Предсказанный город отпуска: {prediction[0]}\")"
      ],
      "metadata": {
        "colab": {
          "base_uri": "https://localhost:8080/"
        },
        "id": "iVavP-ze5Os7",
        "outputId": "cbce1ee4-f597-46cb-d7b3-e90ff803759a"
      },
      "execution_count": 58,
      "outputs": [
        {
          "output_type": "stream",
          "name": "stdout",
          "text": [
            "Предсказанный город отпуска: Moscow\n"
          ]
        }
      ]
    }
  ]
}